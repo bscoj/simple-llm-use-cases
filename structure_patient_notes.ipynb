{
 "cells": [
  {
   "cell_type": "code",
   "execution_count": null,
   "metadata": {},
   "outputs": [],
   "source": [
    "import os\n",
    "\n",
    "# Global Vars\n",
    "cache_dir = \"cache/\"\n",
    "vector_db_path = \"vector_db/\"\n",
    "data_path = \"data/\"\n",
    "\n",
    "collection_name = \"ih_docs\"\n",
    "\n",
    "embedding_model = \"BAAI/bge-base-en-v1.5\"\n",
    "generative_model = \"HuggingFaceH4/zephyr-7b-beta\"\n",
    "\n",
    "paths = [cache_dir, vector_db_path, data_path]\n",
    "for path in paths:\n",
    "    os.makedirs(path, exist_ok=True)\n",
    "\n",
    "os.environ[\"TRANSFORMERS_CACHE\"] = cache_dir"
   ]
  },
  {
   "cell_type": "code",
   "execution_count": null,
   "metadata": {},
   "outputs": [],
   "source": [
    "from datasets import load_dataset\n",
    "\n",
    "dataset = load_dataset(\"medical_dialog\", \"en\")"
   ]
  },
  {
   "cell_type": "code",
   "execution_count": null,
   "metadata": {},
   "outputs": [],
   "source": [
    "# END CODE\n",
    "\n",
    "\n",
    "import os\n",
    "\n",
    "def remove_directory(path):\n",
    "    if os.path.exists(path):\n",
    "        for root, dirs, files in os.walk(path, topdown=False):\n",
    "            for name in files:\n",
    "                file_path = os.path.join(root, name)\n",
    "                os.remove(file_path)\n",
    "            for name in dirs:\n",
    "                dir_path = os.path.join(root, name)\n",
    "                os.rmdir(dir_path)\n",
    "        os.rmdir(path)\n",
    "\n",
    "for path in paths:\n",
    "    remove_directory(path)"
   ]
  }
 ],
 "metadata": {
  "language_info": {
   "name": "python"
  }
 },
 "nbformat": 4,
 "nbformat_minor": 2
}
