{
 "cells": [
  {
   "cell_type": "markdown",
   "metadata": {},
   "source": [
    "### Globals and Creating Directories\n"
   ]
  },
  {
   "cell_type": "code",
   "execution_count": 8,
   "metadata": {},
   "outputs": [],
   "source": [
    "import os\n",
    "\n",
    "# Global Vars\n",
    "cache_dir = \"cache/\"\n",
    "vector_db_path = \"vector_db/\"\n",
    "data_path = \"data/\"\n",
    "\n",
    "collection_name = \"ih_docs\"\n",
    "\n",
    "embedding_model = \"BAAI/bge-base-en-v1.5\"\n",
    "generative_model = \"HuggingFaceH4/zephyr-7b-beta\"\n",
    "\n",
    "paths = [cache_dir, vector_db_path, data_path]\n",
    "for path in paths:\n",
    "    os.makedirs(path, exist_ok=True)\n",
    "\n",
    "os.environ[\"TRANSFORMERS_CACHE\"] = cache_dir"
   ]
  },
  {
   "cell_type": "markdown",
   "metadata": {},
   "source": [
    "### Downloading Intermountain Health Mental Health Webpages"
   ]
  },
  {
   "cell_type": "code",
   "execution_count": null,
   "metadata": {},
   "outputs": [],
   "source": [
    "import requests\n",
    "\n",
    "\n",
    "def get_html(url):\n",
    "    response = requests.get(url)\n",
    "    file_name = \"_\".join(\n",
    "        url.replace(\"?\", \"_\")\n",
    "        .replace(\"-\", \"_\")\n",
    "        .replace(\"=\", \"_\")\n",
    "        .rstrip(\"/\")\n",
    "        .split(\"/\")[-2:]\n",
    "    )\n",
    "    with open(f\"{data_path}/{file_name}.html\", \"wb\") as file:\n",
    "        file.write(response.text.encode(\"latin1\", errors=\"ignore\"))\n",
    "\n",
    "\n",
    "pages = [\n",
    "    \"https://intermountainhealthcare.org/health-information/health-library/depression/\",\n",
    "    \"https://intermountainhealthcare.org/medical-specialties/behavioral-health/depression/\",\n",
    "    \"https://intermountainhealthcare.org/medical-specialties/behavioral-health\",\n",
    "    \"https://intermountainhealthcare.org/medical-specialties/behavioral-health/access-centers\",\n",
    "    \"https://intermountainhealthcare.org/medical-specialties/behavioral-health/mindfulness\",\n",
    "]\n",
    "\n",
    "for page in pages:\n",
    "    get_html(page)"
   ]
  },
  {
   "cell_type": "markdown",
   "metadata": {},
   "source": [
    "### Creating Chroma Vector Store\n"
   ]
  },
  {
   "cell_type": "code",
   "execution_count": 9,
   "metadata": {},
   "outputs": [],
   "source": []
  },
  {
   "cell_type": "code",
   "execution_count": 3,
   "metadata": {},
   "outputs": [
    {
     "name": "stderr",
     "output_type": "stream",
     "text": [
      "\n",
      "KeyboardInterrupt\n",
      "\n"
     ]
    }
   ],
   "source": [
    "from langchain.document_loaders import BSHTMLLoader, DirectoryLoader\n",
    "from langchain.embeddings import HuggingFaceEmbeddings\n",
    "from langchain.text_splitter import RecursiveCharacterTextSplitter\n",
    "from langchain.vectorstores import Chroma\n",
    "\n",
    "html_loader = DirectoryLoader(data_path, loader_cls=BSHTMLLoader)\n",
    "docs = html_loader.load()\n",
    "\n",
    "text_splitter = RecursiveCharacterTextSplitter(chunk_size=128, chunk_overlap=32)\n",
    "documents = text_splitter.split_documents(docs)\n",
    "\n",
    "embeddings = HuggingFaceEmbeddings(\n",
    "    model_name=embedding_model, cache_folder=cache_dir\n",
    ")\n",
    "\n",
    "db = Chroma.from_documents(\n",
    "    collection_name=collection_name,\n",
    "    documents=documents,\n",
    "    embedding=embeddings,\n",
    "    persist_directory=vector_db_path,\n",
    ")\n",
    "db.persist()"
   ]
  },
  {
   "cell_type": "markdown",
   "metadata": {},
   "source": [
    "### LLM Chain Question and Answering\n"
   ]
  },
  {
   "cell_type": "code",
   "execution_count": null,
   "metadata": {},
   "outputs": [],
   "source": [
    "from langchain.embeddings import HuggingFaceEmbeddings\n",
    "from langchain.vectorstores import Chroma\n",
    "\n",
    "embeddings = HuggingFaceEmbeddings(embedding_model)\n",
    "db = Chroma(\n",
    "    collection_name=collection_name,\n",
    "    embedding=embeddings,\n",
    "    persist_directory=vector_db_path,\n",
    ")\n",
    "\n",
    "# number of chunks to retrieve\n",
    "retriever = db.as_retriever(search_kwargs={\"k\": 4})"
   ]
  },
  {
   "cell_type": "code",
   "execution_count": null,
   "metadata": {},
   "outputs": [],
   "source": [
    "import torch\n",
    "import transformers\n",
    "from langchain import PromptTemplate\n",
    "from langchain.chains.question_answering import load_qa_chain\n",
    "from langchain.llms import HuggingFacePipeline\n",
    "from transformers import AutoModelForCausalLM, AutoTokenizer, pipeline\n",
    "\n",
    "\n",
    "def build_qa_chain():\n",
    "    torch.cuda.empty_cache()\n",
    "    config = transformers.AutoConfig.from_pretrained(\n",
    "        generative_model, trust_remote_code=True\n",
    "    )\n",
    "    tokenizer = AutoTokenizer.from_pretrained(generative_model, use_fast=True)\n",
    "    model = AutoModelForCausalLM.from_pretrained(\n",
    "        generative_model,\n",
    "        torch_dtype=torch.bfloat16,\n",
    "        config=config,\n",
    "        cache_dir=cache_dir,\n",
    "        trust_remote_code=True,\n",
    "    )\n",
    "\n",
    "    template = \"\"\"Below is an instruction that describes a task. Write a response that appropriately completes the request.\n",
    "\n",
    "    ### Instruction:\n",
    "    Use only information in the following paragraphs to answer the question. Explain the answer with reference to these paragraphs. If you don't know, say that you do not know.\n",
    "\n",
    "    {context}\n",
    "\n",
    "    {question}\n",
    "\n",
    "    ### Response:\n",
    "    \"\"\"\n",
    "\n",
    "    prompt = PromptTemplate(input_variables=[\"context\", \"question\"], template=template)\n",
    "    end_key_token_id = tokenizer.encode(\"### End\")[0]\n",
    "\n",
    "    pipe = pipeline(\n",
    "        \"text-generation\",\n",
    "        model=model,\n",
    "        tokenizer=tokenizer,\n",
    "        pad_token_id=tokenizer.pad_token_id,\n",
    "        eos_token_id=end_key_token_id,\n",
    "        do_sample=True,\n",
    "        temperature=0.7,\n",
    "        torch_dtype=torch.bfloat16,\n",
    "        max_new_tokens=128,\n",
    "        device=\"auto\",\n",
    "    )\n",
    "\n",
    "    hf_pipe = HuggingFacePipeline(pipeline=pipe)\n",
    "\n",
    "    return load_qa_chain(llm=hf_pipe, chain_type=\"stuff\", prompt=prompt)\n"
   ]
  },
  {
   "cell_type": "code",
   "execution_count": null,
   "metadata": {},
   "outputs": [],
   "source": [
    "# might take a bit to download models\n",
    "qa_chain = build_qa_chain()"
   ]
  },
  {
   "cell_type": "code",
   "execution_count": null,
   "metadata": {},
   "outputs": [],
   "source": [
    "def answer_questions(question):\n",
    "    similar_docs = retriever.get_relevant_documents(question)\n",
    "    result = qa_chain({\"input_documents\": similar_docs, \"question\": question})\n",
    "    result_html = f\"<p><blockquote style=\\\"font-size:24\\\">{question}</blockquote></p>\"\n",
    "    result_html += f\"<p><blockquote style=\\\"font-size:18px\\\">{result['output_text']}</blockquote></p>\"\n",
    "    result_html += \"<p><hr/></p>\"\n",
    "    for d in result[\"input_documents\"]:\n",
    "        source_id = d.metadata[\"source\"]\n",
    "        result_html += f\"<p><blockquote>{d.page_content}<br/>(Source: <a href=\\\"{source_id}\\\">{source_id}</a>)</blockquote></p>\"\n",
    "    print(result_html)"
   ]
  },
  {
   "cell_type": "code",
   "execution_count": null,
   "metadata": {},
   "outputs": [],
   "source": [
    "answer_questions(\"What is depression?\")"
   ]
  },
  {
   "cell_type": "code",
   "execution_count": null,
   "metadata": {},
   "outputs": [],
   "source": [
    "answer_questions(\"I feel like I'm starting to become depressed. Where can I go for help?\")"
   ]
  },
  {
   "cell_type": "code",
   "execution_count": null,
   "metadata": {},
   "outputs": [],
   "source": [
    "answer_questions(\"What are the main symptoms of depression?\")"
   ]
  },
  {
   "cell_type": "code",
   "execution_count": null,
   "metadata": {},
   "outputs": [],
   "source": [
    "answer_questions(\"What are some of the signs someone is at risk for suicide?\")"
   ]
  },
  {
   "cell_type": "code",
   "execution_count": null,
   "metadata": {},
   "outputs": [],
   "source": [
    "answer_questions(\"If my loved one is struggling with suicidal thoughts. Who can I call for help?\")"
   ]
  },
  {
   "cell_type": "markdown",
   "metadata": {},
   "source": [
    "### Remove All Resources"
   ]
  },
  {
   "cell_type": "code",
   "execution_count": null,
   "metadata": {},
   "outputs": [],
   "source": [
    "import os\n",
    "\n",
    "def remove_directory(path):\n",
    "    if os.path.exists(path):\n",
    "        for root, dirs, files in os.walk(path, topdown=False):\n",
    "            for name in files:\n",
    "                file_path = os.path.join(root, name)\n",
    "                os.remove(file_path)\n",
    "            for name in dirs:\n",
    "                dir_path = os.path.join(root, name)\n",
    "                os.rmdir(dir_path)\n",
    "        os.rmdir(path)\n",
    "\n",
    "for path in paths:\n",
    "    remove_directory(path)"
   ]
  },
  {
   "cell_type": "markdown",
   "metadata": {},
   "source": []
  }
 ],
 "metadata": {
  "kernelspec": {
   "display_name": "Python 3",
   "language": "python",
   "name": "python3"
  },
  "language_info": {
   "codemirror_mode": {
    "name": "ipython",
    "version": 3
   },
   "file_extension": ".py",
   "mimetype": "text/x-python",
   "name": "python",
   "nbconvert_exporter": "python",
   "pygments_lexer": "ipython3",
   "version": "3.11.4"
  }
 },
 "nbformat": 4,
 "nbformat_minor": 2
}
